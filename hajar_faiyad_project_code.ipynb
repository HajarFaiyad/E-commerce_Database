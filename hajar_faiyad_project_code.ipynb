{
 "cells": [
  {
   "cell_type": "code",
   "execution_count": 48,
   "id": "333b5118",
   "metadata": {},
   "outputs": [],
   "source": [
    "#CONNECTING TO MYSQL DATABASE USING PYTHON\n",
    "import pymysql.cursors  # importing the pymysql library cursors\n",
    "\n",
    "# building the connection to the mysql server \n",
    "connection = pymysql.connect(host='localhost', \n",
    "                             user='root', \n",
    "                             password='sql2001', \n",
    "                             cursorclass= pymysql.cursors.DictCursor) "
   ]
  },
  {
   "cell_type": "code",
   "execution_count": 49,
   "id": "d5077ffc",
   "metadata": {},
   "outputs": [],
   "source": [
    "# Creating two printing functions to be able to see the database and tables in a more understandable way.\n",
    "# first printing function\n",
    "def print_tables(tableName):\n",
    "    # getting the table (which is an array of dictionaries)\n",
    "    with connection.cursor() as cursor:\n",
    "        cursor.execute(f\"SELECT * FROM {tableName}\")\n",
    "        table = cursor.fetchall() # returns an array of dictionaries\n",
    "        \n",
    "    # column names (which represents the header row)\n",
    "    _column = table[0].keys()\n",
    "    _column = [str(v).ljust(25) for v in _column] # ljust() is used to create equal spacing between the columns.\n",
    "    print(' '.join(_column)) # join() is used to join all the columns together\n",
    "    \n",
    "    # instances (which represents the table entries)\n",
    "    for instance in table:\n",
    "        _value = [str(v).ljust(25) for v in instance.values()]\n",
    "        print(' '.join(_value))"
   ]
  },
  {
   "cell_type": "code",
   "execution_count": 51,
   "id": "f6566efe",
   "metadata": {},
   "outputs": [],
   "source": [
    "#I'm using this to print the unsaved user given commands\n",
    "# Second printing function\n",
    "def print_table(table):\n",
    "    # column names (header row)\n",
    "    _column = table[0].keys()\n",
    "    _column = [str(v).ljust(15) for v in _column] # padding 15 char space to the left \n",
    "    print(' '.join(_column))\n",
    "    \n",
    "    # instances \n",
    "    for instance in table:\n",
    "        _value = [str(v).ljust(15) for v in instance.values()]\n",
    "        print(' '.join(_value))"
   ]
  },
  {
   "cell_type": "code",
   "execution_count": 52,
   "id": "0ef83259",
   "metadata": {},
   "outputs": [],
   "source": [
    "# NOW WE CREATE THE DATABASE USING PYTHON\n",
    "\"\"\"\n",
    "We need to drop/delete the database first incase it already exists in the system/computer.\n",
    "Usually we should not drop the database, nor start by dropping it.\n",
    "I am doing it because I am guessing that you already have another database called Market from other students' submissions.\n",
    "\"\"\"\n",
    "\n",
    "with connection.cursor() as cursor:\n",
    "    cursor.execute(\"DROP DATABASE IF EXISTS ECommerce\") # dropping the database\n",
    "    cursor.execute(\"CREATE DATABASE ECommerce\") # creating the ECommerce database\n",
    "    cursor.execute(\"USE ECommerce\") # to be able to create/add and operate on the database I use the USE command\n",
    "    \n",
    "    ecommerce = cursor.fetchall()\n"
   ]
  },
  {
   "cell_type": "code",
   "execution_count": 53,
   "id": "f0daac9f",
   "metadata": {},
   "outputs": [],
   "source": [
    "# Creating the tables of the ECommerce database using python.\n",
    "# PRIMARY KEY allows us to avoid duplications and repitions in the item entities\n",
    "\n",
    "# table1 Company \n",
    "with connection.cursor() as cursor:\n",
    "    commandCreateCompany = (\"CREATE TABLE Company(licenseID int PRIMARY KEY, \" +\n",
    "               \"companyName varchar(20), \" +\n",
    "               \"category varchar(20), \" + \n",
    "               \"companyTel int, \" +\n",
    "               \"companyLocation varchar(20))\")\n",
    "    cursor.execute(commandCreateCompany)"
   ]
  },
  {
   "cell_type": "code",
   "execution_count": 17,
   "id": "96d68df7",
   "metadata": {},
   "outputs": [],
   "source": [
    "# table2 product \n",
    "with connection.cursor() as cursor:\n",
    "    commandCreateProduct = (\"CREATE TABLE Product(pID int PRIMARY KEY, \" +\n",
    "               \"pCategory varchar(20), \" + \n",
    "               \"pDiscription varchar(20), \" +\n",
    "               \"price float)\")\n",
    "    cursor.execute(commandCreateProduct)"
   ]
  },
  {
   "cell_type": "code",
   "execution_count": 54,
   "id": "fda3da4c",
   "metadata": {},
   "outputs": [],
   "source": [
    "# table3 customer \n",
    "with connection.cursor() as cursor:\n",
    "    commandCreateCustomer = (\"CREATE TABLE Customer(custID int PRIMARY KEY, \" +\n",
    "               \"custName varchar(20), \" + \n",
    "               \"custEmail varchar(20), \" +\n",
    "               \"custTel int, \" +\n",
    "               \"custAddress varchar(20), \" + \n",
    "               \"cardHolder varchar(20), \" + \n",
    "               \"cardNumber int, \" + \n",
    "               \"expirationDate varchar(20), \" + \n",
    "               \"cvc int)\")\n",
    "    cursor.execute(commandCreateCustomer)\n",
    "# cardHolder is for the name on the credit card aka the card owner's name.\n",
    "# For date datatype it goes like year-month-day. But here I made it string on purpose."
   ]
  },
  {
   "cell_type": "code",
   "execution_count": 55,
   "id": "6edd42e1",
   "metadata": {},
   "outputs": [],
   "source": [
    "# table4 basket \n",
    "with connection.cursor() as cursor:\n",
    "    commandCreateBasket = (\"CREATE TABLE Basket(basketID int PRIMARY KEY, \" + \n",
    "               \"totalPrice int)\")\n",
    "    cursor.execute(commandCreateBasket)"
   ]
  },
  {
   "cell_type": "code",
   "execution_count": 56,
   "id": "03f5698d",
   "metadata": {},
   "outputs": [],
   "source": [
    "# table5 cargo \n",
    "with connection.cursor() as cursor:\n",
    "    commandCreateCargo = (\"CREATE TABLE Cargo(cargoCompId int PRIMARY KEY, CargoCompName int)\")\n",
    "    cursor.execute(commandCreateCargo)"
   ]
  },
  {
   "cell_type": "code",
   "execution_count": 58,
   "id": "21dcd6d7",
   "metadata": {},
   "outputs": [],
   "source": [
    "# Inserting/populating the table throgh variables of given in the function header.\n",
    "def insert_to_Company(Lis_id, cName,category, tel, loc): \n",
    "    with connection.cursor() as cursor:\n",
    "        commandInsertComp = (f\"INSERT INTO  Company Values({int(Lis_id)}, '{cName}', '{category}', {int(tel)}, '{loc}' )\")\n",
    "       # print(commandInsertComp)\n",
    "        cursor.execute(commandInsertComp)\n",
    "    connection.commit()\n",
    "        \n",
    "#used to chock if it works corectly\n",
    "#insert_to_Company(123123, \"Sunshine\", \"Cosmetics\", 2124567, \"metrokent, istanbul\") "
   ]
  },
  {
   "cell_type": "code",
   "execution_count": 59,
   "id": "9c9dfd01",
   "metadata": {},
   "outputs": [],
   "source": [
    "def insert_to_Product(p_id,category, discription, price): \n",
    "    with connection.cursor() as cursor:\n",
    "        commandInsertproduct = (f\"INSERT INTO  Product Values({int(p_id)}, '{category}', '{discription}', {int(price)} )\")\n",
    "       # print(commandInsertproduct)\n",
    "        cursor.execute(commandInsertproduct)\n",
    "    connection.commit()"
   ]
  },
  {
   "cell_type": "code",
   "execution_count": 62,
   "id": "eee3077f",
   "metadata": {},
   "outputs": [],
   "source": [
    "def insert_to_Customer(c_id, cName,cMail, tel, loc,cardHold, cardNum, expDate, ccvc): \n",
    "    with connection.cursor() as cursor:\n",
    "        commandInsertCustomer = (f\"INSERT INTO  Customer Values({int(c_id)}, '{cName}', '{cMail}', {int(tel)}, '{loc}', '{cardHold}', {int(cardNum)}, '{expDate}', {int(ccvc)} )\")\n",
    "       # print(commandInsertCustomer)\n",
    "        cursor.execute(commandInsertCustomer)\n",
    "    connection.commit()\n",
    "        "
   ]
  },
  {
   "cell_type": "code",
   "execution_count": 63,
   "id": "1a035d9b",
   "metadata": {},
   "outputs": [],
   "source": [
    "def insert_to_basket(bId, tPrice): \n",
    "    with connection.cursor() as cursor:\n",
    "        commandInsertbasket = (f\"INSERT INTO  Basket Values({int(bId)}, {float(tPrice)} )\")\n",
    "        #print(commandInsertbasket)\n",
    "        cursor.execute(commandInsertbasket)\n",
    "    connection.commit()\n",
    "#insert_to_basket(\"222\", \"45.0\")"
   ]
  },
  {
   "cell_type": "code",
   "execution_count": 64,
   "id": "3b3fe77f",
   "metadata": {},
   "outputs": [],
   "source": [
    "def insert_to_Cargo(ccId, ccName): \n",
    "    with connection.cursor() as cursor:\n",
    "        commandInsertCargo = (f\"INSERT INTO  Cargo Values({int(ccId)}, '{ccName}' )\")\n",
    "        #print(commandInsertCargo)\n",
    "        cursor.execute(commandInsertCargo)\n",
    "    connection.commit()"
   ]
  },
  {
   "cell_type": "code",
   "execution_count": 72,
   "id": "509193de",
   "metadata": {},
   "outputs": [],
   "source": [
    "#this is for advanced command\n",
    "\n",
    "def advancedCmd(cmd):\n",
    "    with connection.cursor() as cursor:\n",
    "        cursor.execute(cmd)\n",
    "    myCmd = cursor.fetchall()\n",
    "    \n",
    "    print_table(myCmd)"
   ]
  },
  {
   "cell_type": "code",
   "execution_count": 73,
   "id": "6427853a",
   "metadata": {},
   "outputs": [
    {
     "name": "stdout",
     "output_type": "stream",
     "text": [
      "Welcome to the E-Commerce platform database designed by Hajar Faiyad!\n",
      "You are currenlty using the E-Commerce database.\n",
      "Please enter the number of the comman you want to operate on the database\n",
      "1. Add new record\n",
      "2. Show database tables\n",
      "3. Apply an advanced command\n",
      "4. Commit all changes\n",
      "5. Exit the database\n",
      "Command number: 3\n"
     ]
    }
   ],
   "source": [
    "#Design and implement simple user interface for the e-commerce database. \n",
    "print(\"Welcome to the E-Commerce platform database designed by Hajar Faiyad!\")\n",
    "print(\"You are currenlty using the E-Commerce database.\")\n",
    "Print(\"Note: the db is currently empty you need to populate it manually using command 1.\")\n",
    "print(\"Please enter the number of the command you want to operate on the database\")\n",
    "print(\"1. Add new record\")\n",
    "print(\"2. Show database tables\")\n",
    "print(\"3. Apply an advanced command\")\n",
    "print(\"4. Commit all changes\")\n",
    "print(\"5. Exit the database\")\n",
    "command = input(\"Command number: \")"
   ]
  },
  {
   "cell_type": "code",
   "execution_count": 74,
   "id": "aee73d5e",
   "metadata": {},
   "outputs": [
    {
     "name": "stdout",
     "output_type": "stream",
     "text": [
      "Type in your Command: SElECT * FROM Company\n",
      "licenseID       companyName     category        companyTel      companyLocation\n",
      "123123          sunshine        cosmetics       2457865         metrokentisnatbh\n",
      "Enter another comand number or enter 5 to exit: 5\n",
      "Bye Bye, hope to see you again!\n"
     ]
    }
   ],
   "source": [
    "status = True \n",
    "while status:\n",
    "    #Add new record\n",
    "    if command == \"1\":\n",
    "        tblName = input(\"Give the table name: \")\n",
    "        if tblName == \"Company\":\n",
    "            compLicenseID = input(\"Enter the company license Id: \")\n",
    "            compName =  input(\"Enter the compnay name: \")\n",
    "            compCategory = input(\"Enter the company category: \")\n",
    "            compTel = input(\"Enter the compnay telephone: \")\n",
    "            compLoc = input(\"Enter the compnay location: \")\n",
    "            insert_to_Company(compLicenseID, compName, compCategory, compTel,compLoc)\n",
    "        elif tblName == \"Product\":\n",
    "            pid = input(\"Enter pID: \")\n",
    "            pcat = input(\"Enter Category: \")\n",
    "            pdis = input(\"Enter Discription: \")\n",
    "            pprice = input(\"Enter price: \")\n",
    "            insert_to_Product(pid,pcat,pdis,pprice)\n",
    "        elif tblName == \"Customer\":\n",
    "            cid = input(\"Enter customer ID: \")\n",
    "            cname = input(\"Enter name: \")\n",
    "            cmail = input(\"Enter email: \")\n",
    "            ctel = input(\"Enter tel: \")\n",
    "            cadd = input(\"Enter address: \")\n",
    "            crdhold = input(\"Enter card holder name: \")\n",
    "            crdnum = input(\"Enter card number: \")\n",
    "            crdate = input(\"Enter expiration date: \")\n",
    "            cvcc = input(\"Enter cvc: \")\n",
    "            insert_to_Customer(cid,cname,cmail,ctel,cadd,crdhold,crdnum,crdate,cvcc)\n",
    "        elif tblName == \"Basket\":\n",
    "            bid = input(\"Enter basket ID: \")\n",
    "            ttlprice = input(\"Enter total price: \")\n",
    "            insert_to_basket(bid,ttlprice)\n",
    "        elif tblName == \"Cargo\":\n",
    "            crgid = input(\"Enter cargo company ID: \")\n",
    "            crgname = input(\"Enter cargo company name: \")\n",
    "            insert_to_Cargo(crgid,crgname)\n",
    "        command = input(\"Enter another comand number or enter 5 to exit: \")\n",
    "    #show table with given name from user\n",
    "    elif command == \"2\":\n",
    "        tblName = input(\"Give the table name: \")\n",
    "        print(tblName)\n",
    "        print_tables(tblName)\n",
    "        command = input(\"Enter another comand number or enter 5 to exit: \")\n",
    "    #advanced command\n",
    "    elif command == \"3\":\n",
    "        advCmd = input(\"Type in your Command: \")\n",
    "        advancedCmd(advCmd)\n",
    "        command = input(\"Enter another comand number or enter 5 to exit: \")\n",
    "    #commit changes \n",
    "    elif command == \"4\":\n",
    "        #comminting the changes to the database \n",
    "        connection.commit()\n",
    "        print(\"Done Commiting!\")\n",
    "        command = input(\"Enter another comand number or enter 5 to exit: \")\n",
    "    #exit\n",
    "    elif command == \"5\":\n",
    "        print(\"Bye Bye, hope to see you again!\")\n",
    "        status = False"
   ]
  },
  {
   "cell_type": "code",
   "execution_count": null,
   "id": "bc20d8a6",
   "metadata": {},
   "outputs": [],
   "source": []
  },
  {
   "cell_type": "code",
   "execution_count": 47,
   "id": "ba985a13",
   "metadata": {},
   "outputs": [],
   "source": []
  },
  {
   "cell_type": "code",
   "execution_count": null,
   "id": "8f179d11",
   "metadata": {},
   "outputs": [],
   "source": []
  },
  {
   "cell_type": "code",
   "execution_count": null,
   "id": "4b11b308",
   "metadata": {},
   "outputs": [],
   "source": []
  },
  {
   "cell_type": "code",
   "execution_count": null,
   "id": "70839d1f",
   "metadata": {},
   "outputs": [],
   "source": []
  },
  {
   "cell_type": "raw",
   "id": "ac9fb3c8",
   "metadata": {},
   "source": []
  }
 ],
 "metadata": {
  "kernelspec": {
   "display_name": "Python 3 (ipykernel)",
   "language": "python",
   "name": "python3"
  },
  "language_info": {
   "codemirror_mode": {
    "name": "ipython",
    "version": 3
   },
   "file_extension": ".py",
   "mimetype": "text/x-python",
   "name": "python",
   "nbconvert_exporter": "python",
   "pygments_lexer": "ipython3",
   "version": "3.9.5"
  }
 },
 "nbformat": 4,
 "nbformat_minor": 5
}
